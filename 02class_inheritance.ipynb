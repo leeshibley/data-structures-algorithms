{
 "cells": [
  {
   "cell_type": "markdown",
   "metadata": {},
   "source": [
    "### Now that we have a Student class, imagine we have a \"Student Athlete\" class.\n",
    "\n",
    "### Many of the attributes, features, etc. will be the same as a Student class, so we can avoid lots of re-typing by letting the StudentAthlete class *inherit* from the Student class."
   ]
  },
  {
   "cell_type": "markdown",
   "metadata": {},
   "source": [
    "----"
   ]
  },
  {
   "cell_type": "markdown",
   "metadata": {},
   "source": [
    "#### Define the Student class:"
   ]
  },
  {
   "cell_type": "code",
   "execution_count": 2,
   "metadata": {},
   "outputs": [],
   "source": [
    "class Student:\n",
    "    \n",
    "    def __init__(self, first, last, courses = None): ## these are the attributes each instance will have\n",
    "        \"\"\"2 underscores is a \"dunder method\".\n",
    "        \n",
    "        `self` is the instance that's passed in; by convention, called self.\n",
    "        \n",
    "        Attributes include first name, last name, and courses (which can be None, or a list of courses).\n",
    "        \"\"\"\n",
    "        self.first_name = first\n",
    "        self.last_name = last\n",
    "        if courses == None: ## courses the function parameter\n",
    "            self.courses = [] ## empty list\n",
    "        else:\n",
    "            self.courses = courses\n",
    "        \n",
    "    \n",
    "    def add_course(self, course):\n",
    "        if course not in self.courses: ## we don't want repeats\n",
    "            self.courses.append(course) ## append a list\n",
    "        else:\n",
    "            print(f\"{self.first_name} is already enrolled in the {course} course\")\n",
    "            \n",
    "    \n",
    "    def remove_course(self, course):\n",
    "        if course in self.courses:\n",
    "            self.courses.remove(course)\n",
    "        else:\n",
    "            print(f\"course {course} not found\")\n",
    "    \n",
    "    \n",
    "    def add_to_file(self, filename):\n",
    "        if self.find_in_file(filename):\n",
    "            return \"Record already exists\" ## once you hit a `return` statement, the function halts\n",
    "        else:\n",
    "            record_to_add = Student.prep_to_write(self.first_name, self.last_name, self.courses)\n",
    "            with open(filename, \"a+\") as to_write:\n",
    "                to_write.write(record_to_add + '\\n') ## new student record to add, plus the newline character\n",
    "    \n",
    "    \n",
    "    def find_in_file(self, filename):\n",
    "        with open(filename) as f:\n",
    "            for line in f:\n",
    "                first_name, last_name, course_details = Student.prep_record(line.strip())\n",
    "                student_read_in = Student(first_name, last_name, course_details)\n",
    "                if self == student_read_in: ## see function `__eq__()` below within this class for notes on behavior of `==` \n",
    "                    return True ## the student was found in the list of students in the file\n",
    "            return False ## once you hit a `return` line, the function halts, so you'll only get here if it never found the student\n",
    "    \n",
    "    \n",
    "    @staticmethod\n",
    "    def prep_to_write(first_name, last_name, courses):\n",
    "        full_name = first_name + ',' + last_name\n",
    "        courses = \",\".join(courses)\n",
    "        return full_name + ':' + courses\n",
    "    \n",
    "    \n",
    "    @staticmethod\n",
    "    def prep_record(line):\n",
    "        \"\"\"This function is tied to our Student class, in that it's performing the conversion of student records we have in our class,\n",
    "        but it doesn't really have any association with our Student class or an instance of the Student class.\n",
    "        \n",
    "        Said another way: Students have records, and those records must be prepped;\n",
    "        but a Student doesn't have the attribute or functionality of prepping those records\n",
    "        (unlike the attribues of their name, or behavior of adding/removing courses).\n",
    "        \n",
    "        When you have a function that is tied to the Class but not actually associated with it,\n",
    "        we call it a *static method* and put `@staticmethod` above the `def` line.\n",
    "        \n",
    "        Static methods can be referenced anywhere else in the Class, but must have the class name before it.\n",
    "        i.e., `Student.prep_record(**args)`, not just `prep_record(**args)`.\n",
    "        \"\"\"\n",
    "        line = line.split(\":\") ## name on left, courses on right\n",
    "        first_name, last_name = line[0].split(\",\")\n",
    "        course_details = line[1].rstrip().split(\",\")\n",
    "\n",
    "        return first_name, last_name, course_details\n",
    "    \n",
    "    \n",
    "    def __eq__(self, other):\n",
    "        \"\"\"This is a dunder method for Python's `==` notation. This changes the functionality of `==` within the Student class,\n",
    "        specifically for the `find_in_file()` function above.\n",
    "        \n",
    "        Without this function, find_in_file() will return False because even identical instances of the Student class will be different instances,\n",
    "        so they won't truly *equal* each other.\n",
    "        \n",
    "        With this function, we say that `==` *really* means, in this case,\n",
    "        \"first name is equal to first name, and last name is equal to last name\",\n",
    "        and the function will return True if it does.\n",
    "        \"\"\"\n",
    "        return self.first_name == other.first_name \\\n",
    "        and self.last_name == other.last_name\n",
    "            \n",
    "    \n",
    "    def __len__(self): ## it's a dunder, so len(thing) --> thing.__len__()\n",
    "        return len(self.courses)\n",
    "      \n",
    "    \n",
    "    def __repr__(self):\n",
    "        \"\"\"This has been fused quite often with the __str__() method.\n",
    "        It also provides a string representation of the object,\n",
    "        but this is how you'd like the object to be instantiated.\n",
    "        Intended for other developers, not so much for users.\n",
    "        \"\"\"\n",
    "        return f\"Student('{self.first_name}, {self.last_name}', {self.courses})\"\n",
    "    \n",
    "    \n",
    "    def __str__(self):\n",
    "        return f\"First name: {self.first_name}, \\\n",
    "        Last name: {self.last_name}, \\\n",
    "        Courses: {', '.join(map(str.capitalize, self.courses))}\""
   ]
  },
  {
   "cell_type": "markdown",
   "metadata": {},
   "source": [
    "#### Let StudentAthlete inherit from Student, with new functionality:"
   ]
  },
  {
   "cell_type": "code",
   "execution_count": 11,
   "metadata": {},
   "outputs": [],
   "source": [
    "class StudentAthlete(Student):\n",
    "    def __init__(self, first, last, courses = None, sport = None):\n",
    "        ## all the __init__() method from the super class (i.e., parent class)\n",
    "        super().__init__(first, last, courses) ## all code from parent class' __init__() method\n",
    "        self.sport = sport ## parent class doesn't have sport, so add it here"
   ]
  },
  {
   "cell_type": "code",
   "execution_count": 5,
   "metadata": {},
   "outputs": [],
   "source": [
    "courses = ['pyton', 'ruby', 'javascript']"
   ]
  },
  {
   "cell_type": "code",
   "execution_count": 12,
   "metadata": {},
   "outputs": [],
   "source": [
    "jane = StudentAthlete('jane', 'doe', courses, \"hockey\")"
   ]
  },
  {
   "cell_type": "code",
   "execution_count": 13,
   "metadata": {
    "scrolled": true
   },
   "outputs": [
    {
     "name": "stdout",
     "output_type": "stream",
     "text": [
      "Help on StudentAthlete in module __main__ object:\n",
      "\n",
      "class StudentAthlete(Student)\n",
      " |  StudentAthlete(first, last, courses=None, sport=None)\n",
      " |  \n",
      " |  Method resolution order:\n",
      " |      StudentAthlete\n",
      " |      Student\n",
      " |      builtins.object\n",
      " |  \n",
      " |  Methods defined here:\n",
      " |  \n",
      " |  __init__(self, first, last, courses=None, sport=None)\n",
      " |      2 underscores is a \"dunder method\".\n",
      " |      \n",
      " |      `self` is the instance that's passed in; by convention, called self.\n",
      " |      \n",
      " |      Attributes include first name, last name, and courses (which can be None, or a list of courses).\n",
      " |  \n",
      " |  ----------------------------------------------------------------------\n",
      " |  Methods inherited from Student:\n",
      " |  \n",
      " |  __eq__(self, other)\n",
      " |      This is a dunder method for Python's `==` notation. This changes the functionality of `==` within the Student class,\n",
      " |      specifically for the `find_in_file()` function above.\n",
      " |      \n",
      " |      Without this function, find_in_file() will return False because even identical instances of the Student class will be different instances,\n",
      " |      so they won't truly *equal* each other.\n",
      " |      \n",
      " |      With this function, we say that `==` *really* means, in this case,\n",
      " |      \"first name is equal to first name, and last name is equal to last name\",\n",
      " |      and the function will return True if it does.\n",
      " |  \n",
      " |  __len__(self)\n",
      " |  \n",
      " |  __repr__(self)\n",
      " |      This has been fused quite often with the __str__() method.\n",
      " |      It also provides a string representation of the object,\n",
      " |      but this is how you'd like the object to be instantiated.\n",
      " |      Intended for other developers, not so much for users.\n",
      " |  \n",
      " |  __str__(self)\n",
      " |      Return str(self).\n",
      " |  \n",
      " |  add_course(self, course)\n",
      " |  \n",
      " |  add_to_file(self, filename)\n",
      " |  \n",
      " |  find_in_file(self, filename)\n",
      " |  \n",
      " |  remove_course(self, course)\n",
      " |  \n",
      " |  ----------------------------------------------------------------------\n",
      " |  Static methods inherited from Student:\n",
      " |  \n",
      " |  prep_record(line)\n",
      " |      This function is tied to our Student class, in that it's performing the conversion of student records we have in our class,\n",
      " |      but it doesn't really have any association with our Student class or an instance of the Student class.\n",
      " |      \n",
      " |      Said another way: Students have records, and those records must be prepped;\n",
      " |      but a Student doesn't have the attribute or functionality of prepping those records\n",
      " |      (unlike the attribues of their name, or behavior of adding/removing courses).\n",
      " |      \n",
      " |      When you have a function that is tied to the Class but not actually associated with it,\n",
      " |      we call it a *static method* and put `@staticmethod` above the `def` line.\n",
      " |      \n",
      " |      Static methods can be referenced anywhere else in the Class, but must have the class name before it.\n",
      " |      i.e., `Student.prep_record(**args)`, not just `prep_record(**args)`.\n",
      " |  \n",
      " |  prep_to_write(first_name, last_name, courses)\n",
      " |  \n",
      " |  ----------------------------------------------------------------------\n",
      " |  Data descriptors inherited from Student:\n",
      " |  \n",
      " |  __dict__\n",
      " |      dictionary for instance variables (if defined)\n",
      " |  \n",
      " |  __weakref__\n",
      " |      list of weak references to the object (if defined)\n",
      " |  \n",
      " |  ----------------------------------------------------------------------\n",
      " |  Data and other attributes inherited from Student:\n",
      " |  \n",
      " |  __hash__ = None\n",
      "\n",
      "None\n"
     ]
    }
   ],
   "source": [
    "print(help(jane))\n",
    "## all the methods available in Student are also available in StudentAthlete!"
   ]
  },
  {
   "cell_type": "code",
   "execution_count": 14,
   "metadata": {},
   "outputs": [
    {
     "name": "stdout",
     "output_type": "stream",
     "text": [
      "hockey\n"
     ]
    }
   ],
   "source": [
    "print(jane.sport)"
   ]
  },
  {
   "cell_type": "code",
   "execution_count": 15,
   "metadata": {},
   "outputs": [
    {
     "name": "stdout",
     "output_type": "stream",
     "text": [
      "True\n"
     ]
    }
   ],
   "source": [
    "print(isinstance(jane, StudentAthlete))"
   ]
  },
  {
   "cell_type": "code",
   "execution_count": 16,
   "metadata": {},
   "outputs": [
    {
     "name": "stdout",
     "output_type": "stream",
     "text": [
      "True\n"
     ]
    }
   ],
   "source": [
    "print(isinstance(jane, Student))"
   ]
  },
  {
   "cell_type": "markdown",
   "metadata": {},
   "source": [
    "#### Both of these are true; Jane is a StudentAthlete, and since StudentAthlete inherits from Student, Jane is also a Student."
   ]
  },
  {
   "cell_type": "markdown",
   "metadata": {},
   "source": [
    "----"
   ]
  },
  {
   "cell_type": "markdown",
   "metadata": {},
   "source": [
    "----"
   ]
  }
 ],
 "metadata": {
  "kernelspec": {
   "display_name": "Python 3.7.4",
   "language": "python",
   "name": "python3"
  },
  "language_info": {
   "codemirror_mode": {
    "name": "ipython",
    "version": 3
   },
   "file_extension": ".py",
   "mimetype": "text/x-python",
   "name": "python",
   "nbconvert_exporter": "python",
   "pygments_lexer": "ipython3",
   "version": "3.7.4"
  }
 },
 "nbformat": 4,
 "nbformat_minor": 4
}
