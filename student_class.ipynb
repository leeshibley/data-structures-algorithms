{
 "cells": [
  {
   "cell_type": "code",
   "execution_count": 1,
   "metadata": {},
   "outputs": [],
   "source": [
    "## build a student class\n",
    "\n",
    "class Student:\n",
    "    pass"
   ]
  },
  {
   "cell_type": "code",
   "execution_count": 2,
   "metadata": {},
   "outputs": [],
   "source": [
    "mashrur = Student()"
   ]
  },
  {
   "cell_type": "code",
   "execution_count": 3,
   "metadata": {},
   "outputs": [],
   "source": [
    "john = Student()"
   ]
  },
  {
   "cell_type": "code",
   "execution_count": 4,
   "metadata": {},
   "outputs": [
    {
     "name": "stdout",
     "output_type": "stream",
     "text": [
      "<__main__.Student object at 0x110820e50>\n"
     ]
    }
   ],
   "source": [
    "print(mashrur)"
   ]
  },
  {
   "cell_type": "code",
   "execution_count": 5,
   "metadata": {},
   "outputs": [
    {
     "name": "stdout",
     "output_type": "stream",
     "text": [
      "<__main__.Student object at 0x1108335d0>\n"
     ]
    }
   ],
   "source": [
    "print(john)"
   ]
  },
  {
   "cell_type": "code",
   "execution_count": 6,
   "metadata": {},
   "outputs": [],
   "source": [
    "## same class, but different instances! Mashrur is not the same as John."
   ]
  },
  {
   "cell_type": "markdown",
   "metadata": {},
   "source": [
    "----"
   ]
  },
  {
   "cell_type": "code",
   "execution_count": 7,
   "metadata": {},
   "outputs": [],
   "source": [
    "mashrur.first_name = 'mashrur'"
   ]
  },
  {
   "cell_type": "code",
   "execution_count": 8,
   "metadata": {},
   "outputs": [],
   "source": [
    "mashrur.last_name = 'hossain'"
   ]
  },
  {
   "cell_type": "code",
   "execution_count": 9,
   "metadata": {},
   "outputs": [],
   "source": [
    "john.first_name = 'john'"
   ]
  },
  {
   "cell_type": "code",
   "execution_count": 10,
   "metadata": {},
   "outputs": [],
   "source": [
    "john.last_name = 'doe'"
   ]
  },
  {
   "cell_type": "code",
   "execution_count": 11,
   "metadata": {},
   "outputs": [
    {
     "name": "stdout",
     "output_type": "stream",
     "text": [
      "mashrur hassain\n"
     ]
    }
   ],
   "source": [
    "print(mashrur.first_name, mashrur.last_name)"
   ]
  },
  {
   "cell_type": "code",
   "execution_count": 12,
   "metadata": {},
   "outputs": [
    {
     "name": "stdout",
     "output_type": "stream",
     "text": [
      "john doe\n"
     ]
    }
   ],
   "source": [
    "print(john.first_name, john.last_name)"
   ]
  },
  {
   "cell_type": "markdown",
   "metadata": {},
   "source": [
    "----"
   ]
  },
  {
   "cell_type": "code",
   "execution_count": 13,
   "metadata": {},
   "outputs": [],
   "source": [
    "## use the init method to save a lot of this extra typing\n",
    "\n",
    "class Student:\n",
    "    \n",
    "    def __init__(self, first, last): ## 2 underscores is a \"dunder method\"\n",
    "        ## self is the instance that's passed in. by convention, called self\n",
    "        self.first_name = first\n",
    "        self.last_name = last"
   ]
  },
  {
   "cell_type": "code",
   "execution_count": 14,
   "metadata": {},
   "outputs": [],
   "source": [
    "lee = Student('lee', 'shibley')\n",
    "## 'self' is automatically passed in first by Python"
   ]
  },
  {
   "cell_type": "code",
   "execution_count": 15,
   "metadata": {},
   "outputs": [],
   "source": [
    "mashrur = Student('mashrur', 'hossain')"
   ]
  },
  {
   "cell_type": "code",
   "execution_count": 16,
   "metadata": {},
   "outputs": [],
   "source": [
    "john = Student('john', 'doe')"
   ]
  },
  {
   "cell_type": "code",
   "execution_count": 17,
   "metadata": {},
   "outputs": [],
   "source": [
    "## Now we've created a Student class, initialized multiple instances, and seen attributes of the class"
   ]
  },
  {
   "cell_type": "markdown",
   "metadata": {},
   "source": [
    "----"
   ]
  },
  {
   "cell_type": "code",
   "execution_count": 18,
   "metadata": {},
   "outputs": [],
   "source": [
    "## add in a Courses attribute"
   ]
  },
  {
   "cell_type": "code",
   "execution_count": 19,
   "metadata": {},
   "outputs": [],
   "source": [
    "## use the init method to save a lot of this extra typing\n",
    "\n",
    "class Student:\n",
    "    \n",
    "    def __init__(self, first, last, courses = None):\n",
    "        ## 2 underscores is a \"dunder method\"\n",
    "        ## self is the instance that's passed in; by convention, called self\n",
    "        ## attributes include first name, last name, and courses (which can be None, or a list of courses)\n",
    "        self.first_name = first\n",
    "        self.last_name = last\n",
    "        if courses == None: ## courses the function parameter\n",
    "            self.courses = [] ## empty list\n",
    "        else:\n",
    "            self.courses = courses"
   ]
  },
  {
   "cell_type": "code",
   "execution_count": 57,
   "metadata": {},
   "outputs": [],
   "source": [
    "courses_1 = ['python', 'rails', 'javascript']"
   ]
  },
  {
   "cell_type": "code",
   "execution_count": 58,
   "metadata": {},
   "outputs": [],
   "source": [
    "courses_2 = ['java', 'rails', 'c']"
   ]
  },
  {
   "cell_type": "code",
   "execution_count": 22,
   "metadata": {},
   "outputs": [],
   "source": [
    "mashrur = Student('mashrur', 'hossain')\n",
    "john = Student('john', 'doe', courses_2)"
   ]
  },
  {
   "cell_type": "code",
   "execution_count": 23,
   "metadata": {},
   "outputs": [
    {
     "name": "stdout",
     "output_type": "stream",
     "text": [
      "mashrur hassain []\n"
     ]
    }
   ],
   "source": [
    "print(mashrur.first_name, mashrur.last_name, mashrur.courses)"
   ]
  },
  {
   "cell_type": "code",
   "execution_count": 24,
   "metadata": {},
   "outputs": [
    {
     "name": "stdout",
     "output_type": "stream",
     "text": [
      "john doe ['java', 'rails', 'c']\n"
     ]
    }
   ],
   "source": [
    "print(john.first_name, john.last_name, john.courses)"
   ]
  },
  {
   "cell_type": "markdown",
   "metadata": {},
   "source": [
    "----"
   ]
  },
  {
   "cell_type": "code",
   "execution_count": 25,
   "metadata": {},
   "outputs": [],
   "source": [
    "## add ability to add and remove courses from semester"
   ]
  },
  {
   "cell_type": "code",
   "execution_count": 89,
   "metadata": {},
   "outputs": [],
   "source": [
    "## use the init method to save a lot of this extra typing\n",
    "\n",
    "class Student:\n",
    "    \n",
    "    def __init__(self, first, last, courses = None):\n",
    "        ## 2 underscores is a \"dunder method\"\n",
    "        ## self is the instance that's passed in; by convention, called self\n",
    "        ## attributes include first name, last name, and courses (which can be None, or a list of courses)\n",
    "        self.first_name = first\n",
    "        self.last_name = last\n",
    "        if courses == None: ## courses the function parameter\n",
    "            self.courses = [] ## empty list\n",
    "        else:\n",
    "            self.courses = courses\n",
    "        \n",
    "    \n",
    "    def add_course(self, course):\n",
    "        if course not in self.courses:\n",
    "            self.courses.append(course) ## append a list; we don't want repeats!\n",
    "        else:\n",
    "            print(f\"{self.first_name} is already \\\n",
    "enrolled in the {course} course\")\n",
    "            \n",
    "    def remove_course(self, course):\n",
    "        if course in self.courses:\n",
    "            self.courses.remove(course)\n",
    "        else:\n",
    "            print(f\"course {course} not found\")"
   ]
  },
  {
   "cell_type": "code",
   "execution_count": 72,
   "metadata": {},
   "outputs": [],
   "source": [
    "courses_1 = ['python', 'rails', 'javascript']"
   ]
  },
  {
   "cell_type": "code",
   "execution_count": 73,
   "metadata": {},
   "outputs": [],
   "source": [
    "courses_2 = ['java', 'rails', 'c']"
   ]
  },
  {
   "cell_type": "code",
   "execution_count": 74,
   "metadata": {},
   "outputs": [],
   "source": [
    "mashrur = Student('mashrur', 'hossain', courses_1)\n",
    "john = Student('john', 'doe', courses_2)"
   ]
  },
  {
   "cell_type": "code",
   "execution_count": 75,
   "metadata": {},
   "outputs": [
    {
     "name": "stdout",
     "output_type": "stream",
     "text": [
      "mashrur hossain ['python', 'rails', 'javascript']\n",
      "john doe ['java', 'rails', 'c']\n"
     ]
    }
   ],
   "source": [
    "print(mashrur.first_name, mashrur.last_name, mashrur.courses)\n",
    "print(john.first_name, john.last_name, john.courses)"
   ]
  },
  {
   "cell_type": "code",
   "execution_count": 76,
   "metadata": {},
   "outputs": [
    {
     "name": "stdout",
     "output_type": "stream",
     "text": [
      "mashrur is already enrolled in the rails course\n"
     ]
    }
   ],
   "source": [
    "mashrur.add_course('java')\n",
    "mashrur.add_course('rails')"
   ]
  },
  {
   "cell_type": "code",
   "execution_count": 77,
   "metadata": {},
   "outputs": [],
   "source": [
    "john.remove_course('c')"
   ]
  },
  {
   "cell_type": "code",
   "execution_count": 78,
   "metadata": {},
   "outputs": [
    {
     "name": "stdout",
     "output_type": "stream",
     "text": [
      "course c not found\n"
     ]
    }
   ],
   "source": [
    "john.remove_course('c')"
   ]
  },
  {
   "cell_type": "code",
   "execution_count": 79,
   "metadata": {},
   "outputs": [
    {
     "name": "stdout",
     "output_type": "stream",
     "text": [
      "course python not found\n"
     ]
    }
   ],
   "source": [
    "john.remove_course('python')"
   ]
  },
  {
   "cell_type": "code",
   "execution_count": 80,
   "metadata": {},
   "outputs": [
    {
     "name": "stdout",
     "output_type": "stream",
     "text": [
      "john doe ['java', 'rails']\n"
     ]
    }
   ],
   "source": [
    "print(john.first_name, john.last_name, john.courses)"
   ]
  },
  {
   "cell_type": "code",
   "execution_count": 88,
   "metadata": {},
   "outputs": [],
   "source": [
    "# a lot of code to get this info...and just printing the instances doesn't yield helpful info"
   ]
  },
  {
   "cell_type": "code",
   "execution_count": 87,
   "metadata": {},
   "outputs": [
    {
     "name": "stdout",
     "output_type": "stream",
     "text": [
      "<__main__.Student object at 0x111dc6a90>\n"
     ]
    }
   ],
   "source": [
    "print(mashrur)"
   ]
  },
  {
   "cell_type": "code",
   "execution_count": 84,
   "metadata": {},
   "outputs": [
    {
     "name": "stdout",
     "output_type": "stream",
     "text": [
      "<__main__.Student object at 0x111dc6810>\n"
     ]
    }
   ],
   "source": [
    "print(john)"
   ]
  },
  {
   "cell_type": "markdown",
   "metadata": {},
   "source": [
    "## Solution: `__str__()`!"
   ]
  },
  {
   "cell_type": "markdown",
   "metadata": {},
   "source": [
    "----"
   ]
  },
  {
   "cell_type": "code",
   "execution_count": 163,
   "metadata": {},
   "outputs": [],
   "source": [
    "## use the init method to save a lot of this extra typing\n",
    "\n",
    "class Student:\n",
    "    \n",
    "    def __init__(self, first, last, courses = None):\n",
    "        ## 2 underscores is a \"dunder method\"\n",
    "        ## self is the instance that's passed in; by convention, called self\n",
    "        ## attributes include first name, last name, and courses (which can be None, or a list of courses)\n",
    "        self.first_name = first\n",
    "        self.last_name = last\n",
    "        if courses == None: ## courses the function parameter\n",
    "            self.courses = [] ## empty list\n",
    "        else:\n",
    "            self.courses = courses\n",
    "        \n",
    "    \n",
    "    def add_course(self, course):\n",
    "        if course not in self.courses:\n",
    "            self.courses.append(course) ## append a list; we don't want repeats!\n",
    "        else:\n",
    "            print(f\"{self.first_name} is already \\\n",
    "enrolled in the {course} course\")\n",
    "            \n",
    "    def remove_course(self, course):\n",
    "        if course in self.courses:\n",
    "            self.courses.remove(course)\n",
    "        else:\n",
    "            print(f\"course {course} not found\")\n",
    "            \n",
    "    \n",
    "    def __len__(self): ## it's a dunder, so len(lee) --> lee.__len__()\n",
    "        return len(self.courses)\n",
    "     \n",
    "        \n",
    "    def __repr__(self):\n",
    "        \"\"\"This has been fused quite often with the __str__() method.\n",
    "        It also provides a string representation of the object,\n",
    "        but this is how you'd like the object to be instantiated.\n",
    "        Intended for other developers, not so much for users.\n",
    "        \"\"\"\n",
    "        return f\"Student('{self.first_name}, {self.last_name}', {self.courses})\"\n",
    "    \n",
    "    \n",
    "    def __str__(self):\n",
    "        return f\"First name: {self.first_name}, \\\n",
    "        Last name: {self.last_name}, \\\n",
    "        Courses: {', '.join(map(str.capitalize, self.courses))}\""
   ]
  },
  {
   "cell_type": "code",
   "execution_count": 164,
   "metadata": {},
   "outputs": [],
   "source": [
    "courses_1 = ['python', 'rails', 'javascript']\n",
    "courses_2 = ['java', 'rails', 'c']"
   ]
  },
  {
   "cell_type": "code",
   "execution_count": 165,
   "metadata": {},
   "outputs": [],
   "source": [
    "lee = Student('lee', 'shibley', courses_1)"
   ]
  },
  {
   "cell_type": "code",
   "execution_count": 172,
   "metadata": {},
   "outputs": [],
   "source": [
    "mashrur = Student('mashrur', 'hossain', courses_1)"
   ]
  },
  {
   "cell_type": "code",
   "execution_count": 173,
   "metadata": {},
   "outputs": [],
   "source": [
    "john = Student('john', 'doe', courses_2)"
   ]
  },
  {
   "cell_type": "code",
   "execution_count": 174,
   "metadata": {},
   "outputs": [
    {
     "data": {
      "text/plain": [
       "'First name: lee,         Last name: shibley,         Courses: Python, Rails, Javascript'"
      ]
     },
     "execution_count": 174,
     "metadata": {},
     "output_type": "execute_result"
    }
   ],
   "source": [
    "lee.__str__()"
   ]
  },
  {
   "cell_type": "code",
   "execution_count": 175,
   "metadata": {},
   "outputs": [
    {
     "name": "stdout",
     "output_type": "stream",
     "text": [
      "First name: lee,         Last name: shibley,         Courses: Python, Rails, Javascript\n"
     ]
    }
   ],
   "source": [
    "print(lee)"
   ]
  },
  {
   "cell_type": "code",
   "execution_count": 176,
   "metadata": {},
   "outputs": [
    {
     "name": "stdout",
     "output_type": "stream",
     "text": [
      "{'first_name': 'lee', 'last_name': 'shibley', 'courses': ['python', 'rails', 'javascript']}\n"
     ]
    }
   ],
   "source": [
    "print(lee.__dict__) ## gives a dictionary representation of my object"
   ]
  },
  {
   "cell_type": "code",
   "execution_count": 177,
   "metadata": {},
   "outputs": [
    {
     "name": "stdout",
     "output_type": "stream",
     "text": [
      "3\n"
     ]
    }
   ],
   "source": [
    "print(len(lee))"
   ]
  },
  {
   "cell_type": "code",
   "execution_count": 178,
   "metadata": {},
   "outputs": [
    {
     "name": "stdout",
     "output_type": "stream",
     "text": [
      "Student('lee, shibley', ['python', 'rails', 'javascript'])\n"
     ]
    }
   ],
   "source": [
    "print(repr(lee))"
   ]
  },
  {
   "cell_type": "code",
   "execution_count": 179,
   "metadata": {},
   "outputs": [
    {
     "data": {
      "text/plain": [
       "\u001b[0;31mSignature:\u001b[0m \u001b[0mrepr\u001b[0m\u001b[0;34m(\u001b[0m\u001b[0mobj\u001b[0m\u001b[0;34m,\u001b[0m \u001b[0;34m/\u001b[0m\u001b[0;34m)\u001b[0m\u001b[0;34m\u001b[0m\u001b[0;34m\u001b[0m\u001b[0m\n",
       "\u001b[0;31mDocstring:\u001b[0m\n",
       "Return the canonical string representation of the object.\n",
       "\n",
       "For many object types, including most builtins, eval(repr(obj)) == obj.\n",
       "\u001b[0;31mType:\u001b[0m      builtin_function_or_method\n"
      ]
     },
     "metadata": {},
     "output_type": "display_data"
    }
   ],
   "source": [
    "repr??"
   ]
  },
  {
   "cell_type": "markdown",
   "metadata": {},
   "source": [
    "## this is great, but we haven't actually *stored* any information. Writing this to a file would be helpful!"
   ]
  },
  {
   "cell_type": "markdown",
   "metadata": {},
   "source": [
    "----"
   ]
  },
  {
   "cell_type": "code",
   "execution_count": 163,
   "metadata": {},
   "outputs": [],
   "source": [
    "## use the init method to save a lot of this extra typing\n",
    "\n",
    "class Student:\n",
    "    \n",
    "    def __init__(self, first, last, courses = None):\n",
    "        ## 2 underscores is a \"dunder method\"\n",
    "        ## self is the instance that's passed in; by convention, called self\n",
    "        ## attributes include first name, last name, and courses (which can be None, or a list of courses)\n",
    "        self.first_name = first\n",
    "        self.last_name = last\n",
    "        if courses == None: ## courses the function parameter\n",
    "            self.courses = [] ## empty list\n",
    "        else:\n",
    "            self.courses = courses\n",
    "        \n",
    "    \n",
    "    def add_course(self, course):\n",
    "        if course not in self.courses:\n",
    "            self.courses.append(course) ## append a list; we don't want repeats!\n",
    "        else:\n",
    "            print(f\"{self.first_name} is already \\\n",
    "enrolled in the {course} course\")\n",
    "            \n",
    "    def remove_course(self, course):\n",
    "        if course in self.courses:\n",
    "            self.courses.remove(course)\n",
    "        else:\n",
    "            print(f\"course {course} not found\")\n",
    "            \n",
    "    \n",
    "    def __len__(self): ## it's a dunder, so len(lee) --> lee.__len__()\n",
    "        return len(self.courses)\n",
    "     \n",
    "        \n",
    "    def __repr__(self):\n",
    "        \"\"\"This has been fused quite often with the __str__() method.\n",
    "        It also provides a string representation of the object,\n",
    "        but this is how you'd like the object to be instantiated.\n",
    "        Intended for other developers, not so much for users.\n",
    "        \"\"\"\n",
    "        return f\"Student('{self.first_name}, {self.last_name}', {self.courses})\"\n",
    "    \n",
    "    \n",
    "    def __str__(self):\n",
    "        return f\"First name: {self.first_name}, \\\n",
    "        Last name: {self.last_name}, \\\n",
    "        Courses: {', '.join(map(str.capitalize, self.courses))}\""
   ]
  },
  {
   "cell_type": "code",
   "execution_count": 164,
   "metadata": {},
   "outputs": [],
   "source": [
    "courses_1 = ['python', 'rails', 'javascript']\n",
    "courses_2 = ['java', 'rails', 'c']"
   ]
  },
  {
   "cell_type": "code",
   "execution_count": 180,
   "metadata": {},
   "outputs": [],
   "source": [
    "file_name = 'data.txt'"
   ]
  },
  {
   "cell_type": "code",
   "execution_count": 181,
   "metadata": {},
   "outputs": [],
   "source": [
    "mashrur = Student('mashrur', 'hossain', ['python', 'ruby', 'javascript'])"
   ]
  },
  {
   "cell_type": "code",
   "execution_count": 181,
   "metadata": {},
   "outputs": [],
   "source": [
    "mashrur = Student('mashrur', 'hossain', ['python', 'ruby', 'javascript'])"
   ]
  },
  {
   "cell_type": "code",
   "execution_count": 182,
   "metadata": {},
   "outputs": [
    {
     "ename": "AttributeError",
     "evalue": "'Student' object has no attribute 'find_in_file'",
     "output_type": "error",
     "traceback": [
      "\u001b[0;31m---------------------------------------------------------------------------\u001b[0m",
      "\u001b[0;31mAttributeError\u001b[0m                            Traceback (most recent call last)",
      "\u001b[0;32m<ipython-input-182-9d67c102405e>\u001b[0m in \u001b[0;36m<module>\u001b[0;34m\u001b[0m\n\u001b[0;32m----> 1\u001b[0;31m \u001b[0mprint\u001b[0m\u001b[0;34m(\u001b[0m\u001b[0mmashrur\u001b[0m\u001b[0;34m.\u001b[0m\u001b[0mfind_in_file\u001b[0m\u001b[0;34m(\u001b[0m\u001b[0mfile_name\u001b[0m\u001b[0;34m)\u001b[0m\u001b[0;34m)\u001b[0m\u001b[0;34m\u001b[0m\u001b[0;34m\u001b[0m\u001b[0m\n\u001b[0m",
      "\u001b[0;31mAttributeError\u001b[0m: 'Student' object has no attribute 'find_in_file'"
     ]
    }
   ],
   "source": [
    "print(mashrur.find_in_file(file_name)) ## don't overwrite if it's already there\n",
    "print(mashrur.add_to_file(file_name)) ## write to file if it's not"
   ]
  },
  {
   "cell_type": "code",
   "execution_count": null,
   "metadata": {},
   "outputs": [],
   "source": []
  }
 ],
 "metadata": {
  "kernelspec": {
   "display_name": "Python 3.7.4",
   "language": "python",
   "name": "python3"
  },
  "language_info": {
   "codemirror_mode": {
    "name": "ipython",
    "version": 3
   },
   "file_extension": ".py",
   "mimetype": "text/x-python",
   "name": "python",
   "nbconvert_exporter": "python",
   "pygments_lexer": "ipython3",
   "version": "3.7.4"
  }
 },
 "nbformat": 4,
 "nbformat_minor": 4
}
